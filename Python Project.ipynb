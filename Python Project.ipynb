{
  "nbformat": 4,
  "nbformat_minor": 0,
  "metadata": {
    "colab": {
      "provenance": [],
      "authorship_tag": "ABX9TyNAxA8fyAiLp9j9l8zdw+rx",
      "include_colab_link": true
    },
    "kernelspec": {
      "name": "python3",
      "display_name": "Python 3"
    },
    "language_info": {
      "name": "python"
    }
  },
  "cells": [
    {
      "cell_type": "markdown",
      "metadata": {
        "id": "view-in-github",
        "colab_type": "text"
      },
      "source": [
        "<a href=\"https://colab.research.google.com/github/Chennu-576/Python_Project/blob/main/Python%20Project.ipynb\" target=\"_parent\"><img src=\"https://colab.research.google.com/assets/colab-badge.svg\" alt=\"Open In Colab\"/></a>"
      ]
    },
    {
      "cell_type": "code",
      "execution_count": null,
      "metadata": {
        "id": "Cqad6LTTpDrk"
      },
      "outputs": [],
      "source": []
    },
    {
      "cell_type": "markdown",
      "source": [
        "User-Friendly ATM Application in Python"
      ],
      "metadata": {
        "id": "zUV3GVxPpGp_"
      }
    },
    {
      "cell_type": "code",
      "source": [
        "person = {\n",
        "    'pin': 9876,\n",
        "    'balance':8000\n",
        "}\n",
        "\n",
        "def withdraw_cash():\n",
        "    while True:\n",
        "        amount = int(input(\"Enter the amount you want to withdraw: \"))\n",
        "        if amount > person['balance']:\n",
        "            print(\"You don't have sufficient balance to make this withdrawal\")\n",
        "        else:\n",
        "            person['balance'] = person['balance'] - amount\n",
        "            print(\"You have successfully withdrawn the amount\")\n",
        "            print('')\n",
        "            return False\n",
        "\n",
        "def balance_enquiry():\n",
        "    print(f\"Total balance is {person['balance']}\")\n",
        "    print('')\n",
        "\n",
        "is_quit = False\n",
        "print('')\n",
        "print(\"Welcome to ATM Machine\")\n",
        "\n",
        "pin = int(input('Please enter your four digit pin: '))\n",
        "if pin == person['pin']:\n",
        "    while is_quit == False:\n",
        "        print(\"what do you want to do\")\n",
        "        print(\" Enter 1 to Withdraw Cash \\n Enter 2 for Balance Enquiry \\n Enter 3 to Quit\")\n",
        "        response = int(input(\"Enter the number you would like to prefer: \"))\n",
        "\n",
        "        if response == 1:\n",
        "            withdraw_cash()\n",
        "        elif response == 2:\n",
        "            balance_enquiry()\n",
        "        elif response == 3:\n",
        "            is_quit = True\n",
        "\n",
        "        else:\n",
        "            print(\"Please enter a correct value shown\")\n",
        "else:\n",
        "    print(\"Entered wrong pin no\")"
      ],
      "metadata": {
        "colab": {
          "base_uri": "https://localhost:8080/"
        },
        "id": "K78lNyRtpYTu",
        "outputId": "a0e9d59e-97ec-45b3-b8dd-bc63530c94e0"
      },
      "execution_count": 1,
      "outputs": [
        {
          "name": "stdout",
          "output_type": "stream",
          "text": [
            "\n",
            "Welcome to ATM Machine\n",
            "Please enter your four digit pin: 9876\n",
            "what do you want to do\n",
            " Enter 1 to Withdraw Cash \n",
            " Enter 2 for Balance Enquiry \n",
            " Enter 3 to Quit\n",
            "Enter the number you would like to prefer: 1\n",
            "Enter the amount you want to withdraw: 3000\n",
            "You have successfully withdrawn the amount\n",
            "\n",
            "what do you want to do\n",
            " Enter 1 to Withdraw Cash \n",
            " Enter 2 for Balance Enquiry \n",
            " Enter 3 to Quit\n",
            "Enter the number you would like to prefer: 2\n",
            "Total balance is 5000\n",
            "\n",
            "what do you want to do\n",
            " Enter 1 to Withdraw Cash \n",
            " Enter 2 for Balance Enquiry \n",
            " Enter 3 to Quit\n",
            "Enter the number you would like to prefer: 3\n"
          ]
        }
      ]
    }
  ]
}